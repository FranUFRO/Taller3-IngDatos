{
 "cells": [
  {
   "cell_type": "markdown",
   "id": "bd796ee3",
   "metadata": {},
   "source": [
    "Taller 3\n",
    "1. Definicion problema de clasificacion"
   ]
  },
  {
   "cell_type": "markdown",
   "id": "a21e2f2c",
   "metadata": {},
   "source": [
    "* Conjunto de datos de una API publica de clima: https://open-meteo.com/en/docs\n",
    "* Defina un problema de clasificación binaria o multiclase:\n",
    "  - Problema de clasificación multiclase, Existe un código para clasificar el clima que va de 0 a 100, hicimos una clasificacion para determinar 10 categorias de clima: \n",
    "  - 0\n",
    "  - 1-10\n",
    "  - 10-20\n",
    "  - 20-30\n",
    "  - 30-40\n",
    "  - 40-50\n",
    "  - 50-60\n",
    "  - 60-70\n",
    "  - 70-80\n",
    "  - 80-90\n",
    "  - 90-100\n",
    "  - De esta forma el weather_code es entendible para personas no familiarizadas, buscamos utilizar los distintos atributos para clasificar el clima en una de estas categorias.\n",
    "* Justfique por qué el problema puede abordarse como uno de clasificación: \n",
    "  - Puede abordarse como un problema de clasificación porque el clima tiene varios atributos que personas sin conocimientos no entienden o no ven la importancia, por lo mismo este código de clasificación del clima es poco conocido, por tanto poder clasificar en categorias el clima permite a las personas saber de manera simple...\n",
    "* Explique cómo preparó el conjunto de datos para el problema: selección de atributos, procesamiento de\n",
    "datos faltantes, creación de e7quetas, entre otros aspectos relevantes \n",
    "- Se seleccionaron los siguientes atributos del clima dados por la API:\n",
    "   ['date', 'temperature_2m', 'relative_humidity_2m',\n",
    "       'apparent_temperature', 'precipitation', 'rain', 'snowfall',\n",
    "       'weather_code', 'surface_pressure', 'cloud_cover', 'wind_speed_10m',\n",
    "       'wind_direction_10m', 'visibility', 'soil_temperature_0cm',\n",
    "       'vapour_pressure_deficit']\n",
    "- Estos datos fueron seleccionados porque entregan información relevante acerca del clima.\n",
    "- La fecha es solo una etiqueta para saber a que hora corresponden los datos\n",
    "- Se crearon clasificaciones para los siguientes atributos: rain, snowfall, wind_direction_10m, visibility, weather_code, cloud_cover, vapour_pressure_deficit-\n",
    "- Atributos finales:\n",
    "   ['date', 'temperature_2m', 'relative_humidity_2m',\n",
    "       'apparent_temperature', 'precipitation', 'surface_pressure', 'cloud_cover', 'wind_speed_10m','soil_temperature_0cm','rain_status', 'snowfall_status','wind_direction_category', 'visibility_category', 'weather_category','cloud_cover_category', 'vpd_category']\n",
    "- Los datos corresponden a los ultimos 90 días de Nueva York por hora, se seleccionó esta ubicación porque presentaba mayor variacaciones en los valores de los atributos. \n",
    "- Se obtuvieron 2376 datos inicialmente\n",
    "- Se eliminaron las filas nulas obteniendo 1980 datos finales"
   ]
  },
  {
   "cell_type": "markdown",
   "id": "3bc7804f",
   "metadata": {},
   "source": [
    "2. Diseño del Experimento"
   ]
  },
  {
   "cell_type": "markdown",
   "id": "0cfaae2b",
   "metadata": {},
   "source": [
    "5. Reflexión final"
   ]
  }
 ],
 "metadata": {
  "language_info": {
   "name": "python"
  }
 },
 "nbformat": 4,
 "nbformat_minor": 5
}
