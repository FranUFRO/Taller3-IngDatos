{
 "cells": [
  {
   "cell_type": "markdown",
   "id": "bd796ee3",
   "metadata": {},
   "source": [
    "Taller 3\n",
    "1. Definicion problema de clasificacion"
   ]
  },
  {
   "cell_type": "markdown",
   "id": "a21e2f2c",
   "metadata": {},
   "source": []
  },
  {
   "cell_type": "markdown",
   "id": "ae9204cd",
   "metadata": {},
   "source": []
  },
  {
   "cell_type": "markdown",
   "id": "3bc7804f",
   "metadata": {},
   "source": [
    "2. Diseño del Experimento"
   ]
  },
  {
   "cell_type": "markdown",
   "id": "0cfaae2b",
   "metadata": {},
   "source": [
    "5. Reflexión final"
   ]
  }
 ],
 "metadata": {
  "language_info": {
   "name": "python"
  }
 },
 "nbformat": 4,
 "nbformat_minor": 5
}
